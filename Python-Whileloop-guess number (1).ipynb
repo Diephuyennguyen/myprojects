{
 "cells": [
  {
   "cell_type": "markdown",
   "metadata": {},
   "source": [
    "# Trong project này làm 1 trò chơi nhỏ mang tên đoán số. Cụ thể, Máy tính sẽ chọn random 1 số từ 1 đến 10 (không in ra màn hình).\n",
    "Chúng ta sẽ đoán máy tính chọn số bao nhiêu?\n",
    "- Nếu số chúng ta đoán thấp hơn máy tính thì in ra \"Your guessing number is too low\"\n",
    "- Nếu số chúng ta đoán cao hơn máy tính thì in ra \"Your guessing number is too high\"\n",
    "- Nếu chúng ta đoán đúng số thì in ra \"You got the correct number after\" xx \"tries\" trong đó xx là số lần đoán. (xx <= 5)\n",
    "- Trường hợp 5 lần đoán sai thì sẽ dừng trò chơi và in ra \"Gameover!!! The correct number is yy\" trong đó yy là số mà máy tính chọn\n"
   ]
  },
  {
   "cell_type": "code",
   "execution_count": 1,
   "metadata": {},
   "outputs": [
    {
     "name": "stdout",
     "output_type": "stream",
     "text": [
      "Player's name: Diep\n",
      "Hi and welcome Diep to the guessing game\n"
     ]
    }
   ],
   "source": [
    "\n",
    "import random as rd\n",
    "yy=rd.randint(1,10)\n",
    "guess_limit=5\n",
    "ten=input( \"Player's name: \")\n",
    "print('Hi and welcome '+ ten +' to the guessing game')\n"
   ]
  },
  {
   "cell_type": "code",
   "execution_count": 2,
   "metadata": {},
   "outputs": [
    {
     "name": "stdout",
     "output_type": "stream",
     "text": [
      "Enter a number between 1 and 10: 4\n",
      "Your guessing number is too low\n",
      "Enter a number between 1 and 10: 2\n",
      "Your guessing number is too low\n",
      "Enter a number between 1 and 10: 3\n",
      "Your guessing number is too low\n",
      "Enter a number between 1 and 10: 4\n",
      "Your guessing number is too low\n",
      "Enter a number between 1 and 10: 5\n",
      "You got the correct number after 5 tries\n"
     ]
    }
   ],
   "source": [
    "\n",
    "xx=1\n",
    "while xx<=guess_limit:\n",
    "    guess=int(input('Enter a number between 1 and 10: '))\n",
    "    if yy<guess:\n",
    "        print( \"Your guessing number is too high\")\n",
    "    elif yy>guess:\n",
    "        print( \"Your guessing number is too low\") \n",
    "    else:\n",
    "        print('You got the correct number after '+ str(xx)+ ' tries')\n",
    "        break\n",
    "    xx=xx+1\n",
    "    if xx>guess_limit:\n",
    "        print('Game over '+'the correct number is '+str(yy))\n"
   ]
  }
 ],
 "metadata": {
  "kernelspec": {
   "display_name": "Python 3 (ipykernel)",
   "language": "python",
   "name": "python3"
  },
  "language_info": {
   "codemirror_mode": {
    "name": "ipython",
    "version": 3
   },
   "file_extension": ".py",
   "mimetype": "text/x-python",
   "name": "python",
   "nbconvert_exporter": "python",
   "pygments_lexer": "ipython3",
   "version": "3.9.12"
  }
 },
 "nbformat": 4,
 "nbformat_minor": 2
}
