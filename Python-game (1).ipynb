{
 "cells": [
  {
   "cell_type": "markdown",
   "metadata": {},
   "source": [
    "#### Project này sẽ mô phỏng lại trò chơi dân gian oẳn tù tì.\n",
    "#### Cụ thể, chúng ta sẽ oẳn tù tì với máy. Máy sẽ chọn random búa, kéo, hoặc lá trong mỗi lần oẳn tù tì.\n",
    "#### Chúng ta sẽ chọn ra búa, kéo hoặc lá sau đó in ra kết quả. Trường hợp người chơi nhập sai, yêu cầu người chơi nhập lại theo đúng chính tả theo 3 sự lựa chọn búa, kéo, hoặc lá.\n",
    "#### Lưu ý, sau mỗi lượt chơi, máy sẽ random chọn lại búa kéo hoặc lá.\n"
   ]
  },
  {
   "cell_type": "code",
   "execution_count": null,
   "metadata": {},
   "outputs": [
    {
     "name": "stdout",
     "output_type": "stream",
     "text": [
      "Bạn ra kéo\n",
      "Máy ra kéo\n",
      "Hòa rồi!\n",
      "Bạn ra lá\n",
      "Máy ra kéo\n",
      "Máy thắng!\n"
     ]
    }
   ],
   "source": [
    "\n",
    "import random as rd\n",
    "a=['búa','kéo','lá']\n",
    "x=1\n",
    "while x>0:\n",
    "    player= input('Bạn ra ')\n",
    "    if player not in a:\n",
    "        print('Vui lòng nhập đúng chính tả') \n",
    "    else:\n",
    "        com=rd.choice(a)\n",
    "        print('Máy ra '+com)\n",
    "        if com==player:\n",
    "            print('Hòa rồi!')\n",
    "        elif player=='búa':\n",
    "            if com=='kéo':\n",
    "                print('Bạn thắng rồi!')\n",
    "            else:\n",
    "                print('Máy thắng!')\n",
    "        elif player=='kéo':\n",
    "            if com=='lá':\n",
    "                print('Bạn thắng rồi!')\n",
    "            else:\n",
    "                print('Máy thắng!')\n",
    "        elif player=='lá':\n",
    "            if com=='búa':\n",
    "                print('Bạn thắng rồi!')\n",
    "            else:\n",
    "                print('Máy thắng!')\n",
    "  \n",
    "       \n",
    "  \n",
    "    \n",
    "\n",
    "    "
   ]
  }
 ],
 "metadata": {
  "kernelspec": {
   "display_name": "Python 3 (ipykernel)",
   "language": "python",
   "name": "python3"
  },
  "language_info": {
   "codemirror_mode": {
    "name": "ipython",
    "version": 3
   },
   "file_extension": ".py",
   "mimetype": "text/x-python",
   "name": "python",
   "nbconvert_exporter": "python",
   "pygments_lexer": "ipython3",
   "version": "3.9.12"
  }
 },
 "nbformat": 4,
 "nbformat_minor": 2
}
